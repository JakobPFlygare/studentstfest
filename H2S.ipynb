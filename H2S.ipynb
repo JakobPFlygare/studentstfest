{
 "cells": [
  {
   "cell_type": "code",
   "execution_count": 1,
   "metadata": {},
   "outputs": [
    {
     "name": "stderr",
     "output_type": "stream",
     "text": [
      "C:\\Users\\Johannes\\Anaconda3\\envs\\jojje1\\lib\\site-packages\\gensim\\utils.py:1197: UserWarning: detected Windows; aliasing chunkize to chunkize_serial\n",
      "  warnings.warn(\"detected Windows; aliasing chunkize to chunkize_serial\")\n"
     ]
    }
   ],
   "source": [
    "import sys\n",
    "import gensim.models.keyedvectors as word2vec\n",
    "from gensim.test.utils import common_corpus, common_dictionary\n",
    "import os\n",
    "from gensim.sklearn_api import TfIdfTransformer\n",
    "import numpy as np\n",
    "from scipy.cluster.hierarchy import dendrogram, linkage,cut_tree  \n",
    "from matplotlib import pyplot as plt\n",
    "from sklearn.feature_extraction.text import TfidfVectorizer\n",
    "import csv\n",
    "import pandas as pd\n",
    "import nltk\n",
    "from nltk.corpus import stopwords"
   ]
  },
  {
   "cell_type": "code",
   "execution_count": 2,
   "metadata": {},
   "outputs": [
    {
     "name": "stderr",
     "output_type": "stream",
     "text": [
      "[nltk_data] Downloading package stopwords to\n",
      "[nltk_data]     C:\\Users\\Johannes\\AppData\\Roaming\\nltk_data...\n",
      "[nltk_data]   Package stopwords is already up-to-date!\n"
     ]
    },
    {
     "data": {
      "text/plain": [
       "True"
      ]
     },
     "execution_count": 2,
     "metadata": {},
     "output_type": "execute_result"
    }
   ],
   "source": [
    "nltk.download('stopwords')"
   ]
  },
  {
   "cell_type": "code",
   "execution_count": 3,
   "metadata": {},
   "outputs": [],
   "source": [
    "#sentence function\n",
    "def get_sentence_vec(sentence,model,stop_words):\n",
    "    sWords=sentence.split(' ')\n",
    "    vocab = model.vocab\n",
    "    \n",
    "    for word in sWords.copy(): #remove sentence words not found in the vocab\n",
    "        if (word not in vocab) or (word in stop_words):\n",
    "            sWords.remove(word)\n",
    "            \n",
    "    sVec=np.zeros(300)\n",
    "    for Word in sWords:\n",
    "        #print(Word)\n",
    "        sVec=np.add(sVec,model[Word])\n",
    "    returnVec=np.divide(sVec,len(sWords))   \n",
    "    return returnVec\n",
    "\n",
    "def combine_sentence_vec(sentences,model,stop_words):\n",
    "    sentence_vec_list=[]\n",
    "    for sent in sentences:\n",
    "        sentence_vec_list=sentence_vec_list+[get_sentence_vec(sent,model,stop_words)]\n",
    "    sentence_vec_x=np.stack(sentence_vec_list,axis=0)\n",
    "    return sentence_vec_x"
   ]
  },
  {
   "cell_type": "code",
   "execution_count": 4,
   "metadata": {},
   "outputs": [],
   "source": [
    "os.chdir(\"C:\\\\Users\\\\Johannes\\\\Desktop\\\\h4s\\\\studentstfest-master\") #skriv in map för test_data\n",
    "#Make all the data set\n",
    "stop_words = stopwords.words('english')\n",
    "#text_stuff = pd.read_csv(\"mendeley_scrape_ALL.csv\",sep=\",\")\n",
    "text_stuff = pd.read_csv(\"test_data\",sep=\",\")"
   ]
  },
  {
   "cell_type": "code",
   "execution_count": 5,
   "metadata": {},
   "outputs": [],
   "source": [
    "text_stuff_2=text_stuff[\"Abstract\"]"
   ]
  },
  {
   "cell_type": "code",
   "execution_count": 6,
   "metadata": {},
   "outputs": [
    {
     "data": {
      "text/plain": [
       "0     past years global average temperature increase...\n",
       "1     Using climate change experiments generated Fou...\n",
       "2     continued increase atmospheric concentration c...\n",
       "3     article reviews recent literature drought last...\n",
       "4     Increasing greenhouse gas concentrations expec...\n",
       "5     countries adopted global warming limit C relat...\n",
       "6     impact projected global warming crop yields ev...\n",
       "7     Earth warms many species likely disappear ofte...\n",
       "8     Historical records precipitation streamflow dr...\n",
       "9     past years many workers noted combined effect ...\n",
       "10    paper demonstrates US prestigepress coverage g...\n",
       "11    authors propose new climatic drought index sta...\n",
       "12    Climate models satellite observations indicate...\n",
       "13    Several recently published studies produced ap...\n",
       "14    ONE effect global warming accelerate decomposi...\n",
       "15    Water vapor dominant greenhouse gas important ...\n",
       "16    Despite continued increase atmospheric greenho...\n",
       "Name: Abstract, dtype: object"
      ]
     },
     "execution_count": 6,
     "metadata": {},
     "output_type": "execute_result"
    }
   ],
   "source": [
    "text_stuff_2"
   ]
  },
  {
   "cell_type": "code",
   "execution_count": 7,
   "metadata": {},
   "outputs": [],
   "source": [
    "#text_stuff_2=text_stuff_2[1:len(text_stuff_2)]"
   ]
  },
  {
   "cell_type": "code",
   "execution_count": 8,
   "metadata": {},
   "outputs": [],
   "source": [
    "#Load the word2vec database\n",
    "embed_map = word2vec.KeyedVectors.load_word2vec_format(\"C:\\\\Users\\\\Johannes\\\\Desktop\\\\h4s\\\\GoogleNews-vectors-negative300.bin.gz\", binary=True)"
   ]
  },
  {
   "cell_type": "code",
   "execution_count": 9,
   "metadata": {},
   "outputs": [],
   "source": [
    "cluster_x=combine_sentence_vec(text_stuff_2,embed_map,stop_words)"
   ]
  },
  {
   "cell_type": "code",
   "execution_count": 10,
   "metadata": {},
   "outputs": [],
   "source": [
    "linked = linkage(cluster_x, 'ward')\n",
    "\n",
    "labelList = range(cluster_x.shape[0])"
   ]
  },
  {
   "cell_type": "code",
   "execution_count": 11,
   "metadata": {},
   "outputs": [
    {
     "data": {
      "image/png": "[encoded data removed]",
      "text/plain": [
       "<Figure size 1224x576 with 1 Axes>"
      ]
     },
     "metadata": {
      "needs_background": "light"
     },
     "output_type": "display_data"
    }
   ],
   "source": [
    "plt.figure(figsize=(cluster_x.shape[0], 8))  \n",
    "dendrogram(linked, \n",
    "            orientation='top',\n",
    "            labels=labelList,\n",
    "            distance_sort='descending',\n",
    "            show_leaf_counts=True)\n",
    "plt.show()  "
   ]
  },
  {
   "cell_type": "code",
   "execution_count": 12,
   "metadata": {},
   "outputs": [
    {
     "name": "stdout",
     "output_type": "stream",
     "text": [
      "There is 4 clusters\n"
     ]
    }
   ],
   "source": [
    "arr=cut_tree(linked,height=0.8) #Set cut (should be automatic)\n",
    "list_thing=[[0,0]]*len(arr)\n",
    "set_thing=set()\n",
    "for i in range(len(arr)):\n",
    "    list_thing[i]=[i,arr[i][0]]\n",
    "    set_thing=set_thing.union(set(str(arr[i][0])))\n",
    "    \n",
    "list_0= [ [] for i in range(len(list(set_thing))) ]\n",
    "for vec in list_thing:\n",
    "    list_0[vec[1]].append(vec[0])\n",
    "#list_0 is a list containing lists of clusters\n",
    "clus_0= [ np.zeros(300) for i in range(len(list(set_thing))) ]\n",
    "for i in range(cluster_x.shape[0]):\n",
    "    clus_0[list_thing[i][1]]=clus_0[list_thing[i][1]]+cluster_x[i]\n",
    "print(\"There is\",len(clus_0),\"clusters\")"
   ]
  },
  {
   "cell_type": "code",
   "execution_count": 13,
   "metadata": {},
   "outputs": [
    {
     "data": {
      "text/plain": [
       "[('Warmer_seas', 0.7572243809700012),\n",
       " ('Atlantic_Multidecadal_Oscillation_AMO', 0.7198802828788757),\n",
       " ('poleward_shift', 0.7177090644836426),\n",
       " ('atmospheric_CO2_levels', 0.7107298374176025),\n",
       " ('climatic_variability', 0.7052105069160461),\n",
       " ('oceanic_circulation', 0.6990755200386047),\n",
       " ('called_Abydosaurus_mcintoshi', 0.6968605518341064),\n",
       " ('Warmer_harvests', 0.6918387413024902),\n",
       " ('Warmer_oceans', 0.689514696598053),\n",
       " ('Jellyfish_swarm_northward', 0.686876654624939)]"
      ]
     },
     "execution_count": 13,
     "metadata": {},
     "output_type": "execute_result"
    }
   ],
   "source": [
    "embed_map.most_similar(positive=[clus_0[0]])"
   ]
  },
  {
   "cell_type": "code",
   "execution_count": 14,
   "metadata": {},
   "outputs": [
    {
     "data": {
      "text/plain": [
       "[('Atlantic_Multidecadal_Oscillation_AMO', 0.7156540751457214),\n",
       " ('atmospheric_CO2_levels', 0.7041442394256592),\n",
       " ('FAR_WEST_TEXAS', 0.7001354098320007),\n",
       " ('mso_font_pitch', 0.6903090476989746),\n",
       " ('Warmer_seas', 0.6877490282058716),\n",
       " ('Antarctic_stratosphere', 0.6865097880363464),\n",
       " ('Vertical_wind_shear', 0.6841302514076233),\n",
       " ('climatic_variability', 0.6798188090324402),\n",
       " ('interannual', 0.6776994466781616),\n",
       " ('poleward_shift', 0.6776773929595947)]"
      ]
     },
     "execution_count": 14,
     "metadata": {},
     "output_type": "execute_result"
    }
   ],
   "source": [
    "embed_map.most_similar(positive=[clus_0[1]])"
   ]
  },
  {
   "cell_type": "code",
   "execution_count": 15,
   "metadata": {},
   "outputs": [
    {
     "data": {
      "text/plain": [
       "[('CarbonSMART_™_enterprise', 0.7502768039703369),\n",
       " ('atmospheric_CO2_levels', 0.7362477779388428),\n",
       " ('sulphate_aerosols', 0.7319340109825134),\n",
       " ('anthropogenic_carbon_dioxide', 0.7153979539871216),\n",
       " ('carbon_dioxide_CO_²', 0.7085928916931152),\n",
       " ('terrestrial_biosphere', 0.6979320049285889),\n",
       " ('GHG_concentrations', 0.6891335248947144),\n",
       " ('Antarctic_stratosphere', 0.6820710897445679),\n",
       " ('Carbon_dioxide_CO2', 0.6814360618591309),\n",
       " ('Greenhouse_gases_trap', 0.6802898645401001)]"
      ]
     },
     "execution_count": 15,
     "metadata": {},
     "output_type": "execute_result"
    }
   ],
   "source": [
    "embed_map.most_similar(positive=[clus_0[2]])"
   ]
  },
  {
   "cell_type": "code",
   "execution_count": 16,
   "metadata": {},
   "outputs": [
    {
     "data": {
      "text/plain": [
       "[('By_Laurelle_Gilbert', 0.6576451063156128),\n",
       " ('Bob_Ewegen_deputy', 0.6547286510467529),\n",
       " ('By_Kat_Zeman', 0.6474968791007996),\n",
       " ('By_Jonas_Elmerraji', 0.6473667621612549),\n",
       " ('By_Bill_Esbrook', 0.6459450721740723),\n",
       " ('JIM_HAND_covers', 0.6425351500511169),\n",
       " ('Linda_Seebach', 0.6416075825691223),\n",
       " ('By_Lisa_Shidler', 0.6405673027038574),\n",
       " ('visit_TimesWatch', 0.637122392654419),\n",
       " ('MUSSO_JT_c', 0.6349285840988159)]"
      ]
     },
     "execution_count": 16,
     "metadata": {},
     "output_type": "execute_result"
    }
   ],
   "source": [
    "embed_map.most_similar(positive=[clus_0[3]])"
   ]
  },
  {
   "cell_type": "code",
   "execution_count": null,
   "metadata": {},
   "outputs": [],
   "source": []
  }
 ],
 "metadata": {
  "kernelspec": {
   "display_name": "Python 3",
   "language": "python",
   "name": "python3"
  },
  "language_info": {
   "codemirror_mode": {
    "name": "ipython",
    "version": 3
   },
   "file_extension": ".py",
   "mimetype": "text/x-python",
   "name": "python",
   "nbconvert_exporter": "python",
   "pygments_lexer": "ipython3",
   "version": "3.6.8"
  }
 },
 "nbformat": 4,
 "nbformat_minor": 2
}
